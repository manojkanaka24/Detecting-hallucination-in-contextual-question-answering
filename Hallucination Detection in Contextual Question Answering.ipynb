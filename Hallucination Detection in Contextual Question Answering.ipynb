{
 "cells": [
  {
   "cell_type": "markdown",
   "id": "a73d5b5e-ff70-4049-832e-9a0771bfb2e6",
   "metadata": {},
   "source": [
    "### Import required frameworks and libraries"
   ]
  },
  {
   "cell_type": "code",
   "execution_count": 1,
   "id": "88f89531-4df5-4c76-8c1b-ed660576d2e3",
   "metadata": {},
   "outputs": [
    {
     "name": "stderr",
     "output_type": "stream",
     "text": [
      "/var/folders/bf/f89y356d061dpv04rhvw5mpw0000gn/T/ipykernel_29604/2632832034.py:1: DeprecationWarning: \n",
      "Pyarrow will become a required dependency of pandas in the next major release of pandas (pandas 3.0),\n",
      "(to allow more performant data types, such as the Arrow string type, and better interoperability with other libraries)\n",
      "but was not found to be installed on your system.\n",
      "If this would cause problems for you,\n",
      "please provide us feedback at https://github.com/pandas-dev/pandas/issues/54466\n",
      "        \n",
      "  import pandas as pd\n"
     ]
    }
   ],
   "source": [
    "import pandas as pd\n",
    "import numpy as np\n",
    "from sklearn.model_selection import train_test_split\n",
    "from tensorflow.keras.preprocessing.text import Tokenizer\n",
    "from sklearn.preprocessing import LabelEncoder\n",
    "from sklearn.metrics import accuracy_score, classification_report\n",
    "from tensorflow.keras.models import Sequential\n",
    "from tensorflow.keras.layers import Embedding, Bidirectional, LSTM, Dense, Dropout\n",
    "from tensorflow.keras.preprocessing.sequence import pad_sequences"
   ]
  },
  {
   "cell_type": "code",
   "execution_count": 2,
   "id": "0f329004-3486-4168-afee-91d62dde3332",
   "metadata": {},
   "outputs": [],
   "source": [
    "df = pd.read_csv('Hallucination-Dataset-400-Samples.csv')"
   ]
  },
  {
   "cell_type": "code",
   "execution_count": 3,
   "id": "75c0b76d-19a9-4e16-a92c-3fe25d1d2ff7",
   "metadata": {},
   "outputs": [],
   "source": [
    "# Data cleaning\n",
    "df['Context'] = df['Context'].astype(str)\n",
    "df['Question'] = df['Question'].astype(str)\n",
    "df['Answer'] = df['Answer'].astype(str)"
   ]
  },
  {
   "cell_type": "code",
   "execution_count": 4,
   "id": "6a02370c-59e1-40cc-8478-cd8a514a90a6",
   "metadata": {},
   "outputs": [],
   "source": [
    "df['Combined'] = df['Context'] + ' ' + df['Question']"
   ]
  },
  {
   "cell_type": "code",
   "execution_count": 5,
   "id": "78089782-4b81-4198-b2ad-d302523d2739",
   "metadata": {},
   "outputs": [],
   "source": [
    "# Tokenize text for Combined column\n",
    "max_words_combined = 1000\n",
    "tokenizer_combined = Tokenizer(num_words=max_words_combined, oov_token='<OOV>')\n",
    "tokenizer_combined.fit_on_texts(df['Combined'])\n",
    "X_combined = tokenizer_combined.texts_to_sequences(df['Combined'])\n",
    "X_combined = pad_sequences(X_combined, maxlen=100, padding='post', truncating='post')"
   ]
  },
  {
   "cell_type": "code",
   "execution_count": 6,
   "id": "4ea4ccbd-7dbd-4e7f-9b9b-61aa04cfdeed",
   "metadata": {},
   "outputs": [],
   "source": [
    "# Tokenize text for Answer column\n",
    "max_words_answer = 500\n",
    "tokenizer_answer = Tokenizer(num_words=max_words_answer, oov_token='<OOV>')\n",
    "tokenizer_answer.fit_on_texts(df['Answer'])\n",
    "X_answer = tokenizer_answer.texts_to_sequences(df['Answer'])\n",
    "X_answer = pad_sequences(X_answer, maxlen=50, padding='post', truncating='post')"
   ]
  },
  {
   "cell_type": "code",
   "execution_count": 7,
   "id": "01f8cfa4-6a4a-4929-a44d-1eaecdf36143",
   "metadata": {},
   "outputs": [],
   "source": [
    "# Concatenate the tokenized sequences\n",
    "X_combined = pad_sequences(X_combined, maxlen=100, padding='post', truncating='post')\n",
    "X_answer = pad_sequences(X_answer, maxlen=50, padding='post', truncating='post')\n",
    "X = np.concatenate([X_combined, X_answer], axis=1)"
   ]
  },
  {
   "cell_type": "code",
   "execution_count": 8,
   "id": "74d23839-0222-4b66-b68d-f8290e1bc848",
   "metadata": {},
   "outputs": [],
   "source": [
    "# Encode hallucination labels\n",
    "label_encoder = LabelEncoder()\n",
    "y = label_encoder.fit_transform(df['Hallucination'])"
   ]
  },
  {
   "cell_type": "code",
   "execution_count": 9,
   "id": "b8fd5c1b-e526-46de-93f8-d17aa862774c",
   "metadata": {},
   "outputs": [],
   "source": [
    "# Split the data into training and testing sets\n",
    "X_train, X_test, y_train, y_test = train_test_split(X, y, test_size=0.2, random_state=42)"
   ]
  },
  {
   "cell_type": "code",
   "execution_count": 10,
   "id": "f7552bac-5a66-48ae-86c0-fe41ff7e2018",
   "metadata": {},
   "outputs": [],
   "source": [
    "# Build the neural network model\n",
    "model = Sequential()\n",
    "model.add(Embedding(input_dim=max_words_combined + max_words_answer, output_dim=100, input_length=150))\n",
    "model.add(Bidirectional(LSTM(128, return_sequences=True)))\n",
    "model.add(Bidirectional(LSTM(64)))\n",
    "model.add(Dense(64, activation='relu'))\n",
    "model.add(Dropout(0.5))\n",
    "model.add(Dense(1, activation='sigmoid'))\n",
    "\n",
    "model.compile(optimizer='adam', loss='binary_crossentropy', metrics=['accuracy'])"
   ]
  },
  {
   "cell_type": "code",
   "execution_count": 11,
   "id": "ce409155-d3fa-4667-8270-294ecab92e98",
   "metadata": {
    "scrolled": true
   },
   "outputs": [
    {
     "name": "stdout",
     "output_type": "stream",
     "text": [
      "Epoch 1/5\n",
      "7/7 [==============================] - 3s 259ms/step - loss: 0.6867 - accuracy: 0.6071 - val_loss: 0.6800 - val_accuracy: 0.5773\n",
      "Epoch 2/5\n",
      "7/7 [==============================] - 1s 188ms/step - loss: 0.6699 - accuracy: 0.6027 - val_loss: 0.6742 - val_accuracy: 0.5773\n",
      "Epoch 3/5\n",
      "7/7 [==============================] - 1s 199ms/step - loss: 0.6415 - accuracy: 0.6027 - val_loss: 0.6328 - val_accuracy: 0.5979\n",
      "Epoch 4/5\n",
      "7/7 [==============================] - 1s 211ms/step - loss: 0.5320 - accuracy: 0.7455 - val_loss: 0.5806 - val_accuracy: 0.6495\n",
      "Epoch 5/5\n",
      "7/7 [==============================] - 1s 218ms/step - loss: 0.3671 - accuracy: 0.8795 - val_loss: 0.6586 - val_accuracy: 0.6392\n"
     ]
    },
    {
     "data": {
      "text/plain": [
       "<keras.src.callbacks.History at 0x17ed69350>"
      ]
     },
     "execution_count": 11,
     "metadata": {},
     "output_type": "execute_result"
    }
   ],
   "source": [
    "model.fit(X_train, y_train, epochs=5, batch_size=32, validation_split=0.3)"
   ]
  },
  {
   "cell_type": "code",
   "execution_count": 12,
   "id": "c9a231a6-2702-4cbb-81a3-94fe2f2d86c1",
   "metadata": {},
   "outputs": [
    {
     "name": "stdout",
     "output_type": "stream",
     "text": [
      "3/3 [==============================] - 1s 53ms/step\n"
     ]
    }
   ],
   "source": [
    "y_pred = (model.predict(X_test) > 0.5).astype(int)\n",
    "accuracy = accuracy_score(y_test, y_pred)\n",
    "report = classification_report(y_test, y_pred)"
   ]
  },
  {
   "cell_type": "code",
   "execution_count": 13,
   "id": "28dbfcc9-00e3-4cd9-a820-173192d3c009",
   "metadata": {},
   "outputs": [
    {
     "name": "stdout",
     "output_type": "stream",
     "text": [
      "Accuracy: 0.8148148148148148\n",
      "Classification Report:\n",
      "               precision    recall  f1-score   support\n",
      "\n",
      "           0       0.71      0.83      0.77        30\n",
      "           1       0.89      0.80      0.85        51\n",
      "\n",
      "    accuracy                           0.81        81\n",
      "   macro avg       0.80      0.82      0.81        81\n",
      "weighted avg       0.83      0.81      0.82        81\n",
      "\n"
     ]
    }
   ],
   "source": [
    "print(f\"Accuracy: {accuracy}\")\n",
    "print(\"Classification Report:\\n\", report)"
   ]
  },
  {
   "cell_type": "code",
   "execution_count": 14,
   "id": "69d670c6-ce28-4701-8578-3f7e3092100d",
   "metadata": {},
   "outputs": [
    {
     "data": {
      "text/plain": [
       "array([[1],\n",
       "       [0],\n",
       "       [1],\n",
       "       [1],\n",
       "       [1],\n",
       "       [0],\n",
       "       [0],\n",
       "       [1],\n",
       "       [1],\n",
       "       [1]])"
      ]
     },
     "execution_count": 14,
     "metadata": {},
     "output_type": "execute_result"
    }
   ],
   "source": [
    "y_pred[:10]"
   ]
  },
  {
   "cell_type": "code",
   "execution_count": 15,
   "id": "e6e30ceb-a29f-44d9-aa36-abc26a13c1ab",
   "metadata": {},
   "outputs": [
    {
     "data": {
      "text/plain": [
       "array([0, 0, 1, 1, 1, 0, 0, 1, 1, 0])"
      ]
     },
     "execution_count": 15,
     "metadata": {},
     "output_type": "execute_result"
    }
   ],
   "source": [
    "y_test[:10]"
   ]
  }
 ],
 "metadata": {
  "kernelspec": {
   "display_name": "Python 3 (ipykernel)",
   "language": "python",
   "name": "python3"
  },
  "language_info": {
   "codemirror_mode": {
    "name": "ipython",
    "version": 3
   },
   "file_extension": ".py",
   "mimetype": "text/x-python",
   "name": "python",
   "nbconvert_exporter": "python",
   "pygments_lexer": "ipython3",
   "version": "3.11.5"
  }
 },
 "nbformat": 4,
 "nbformat_minor": 5
}
